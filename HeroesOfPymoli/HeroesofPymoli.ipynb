{
 "cells": [
  {
   "cell_type": "code",
   "execution_count": 184,
   "metadata": {},
   "outputs": [],
   "source": [
    "%config IPCompleter.greedy=True"
   ]
  },
  {
   "cell_type": "code",
   "execution_count": 185,
   "metadata": {},
   "outputs": [],
   "source": [
    "#Dependencies and Setup\n",
    "import pandas as pd\n",
    "import numpy as np"
   ]
  },
  {
   "cell_type": "code",
   "execution_count": 186,
   "metadata": {},
   "outputs": [],
   "source": [
    "#File to Load\n",
    "csv_file = 'Resources/HeroesOfPymoli.csv'\n",
    "\n",
    "#Use Pandas to read in csv file \n",
    "heroes_df = pd.read_csv(csv_file, encoding=\"UTF-8\")"
   ]
  },
  {
   "cell_type": "code",
   "execution_count": 187,
   "metadata": {},
   "outputs": [],
   "source": [
    "total_players = len(heroes_df[\"SN\"].value_counts())"
   ]
  },
  {
   "cell_type": "code",
   "execution_count": 188,
   "metadata": {},
   "outputs": [
    {
     "data": {
      "text/html": [
       "<div>\n",
       "<style scoped>\n",
       "    .dataframe tbody tr th:only-of-type {\n",
       "        vertical-align: middle;\n",
       "    }\n",
       "\n",
       "    .dataframe tbody tr th {\n",
       "        vertical-align: top;\n",
       "    }\n",
       "\n",
       "    .dataframe thead th {\n",
       "        text-align: right;\n",
       "    }\n",
       "</style>\n",
       "<table border=\"1\" class=\"dataframe\">\n",
       "  <thead>\n",
       "    <tr style=\"text-align: right;\">\n",
       "      <th></th>\n",
       "      <th>Total Players</th>\n",
       "    </tr>\n",
       "  </thead>\n",
       "  <tbody>\n",
       "    <tr>\n",
       "      <th>0</th>\n",
       "      <td>576</td>\n",
       "    </tr>\n",
       "  </tbody>\n",
       "</table>\n",
       "</div>"
      ],
      "text/plain": [
       "   Total Players\n",
       "0            576"
      ]
     },
     "execution_count": 188,
     "metadata": {},
     "output_type": "execute_result"
    }
   ],
   "source": [
    "#PLAYER COUNT: Total # of Players:\n",
    "# Find Number of Total Players and display as a DataFrame\n",
    "\n",
    "total_players_dict = [{\"Total Players\": total_players}]\n",
    "\n",
    "#Create DataFrame from Dictionary\n",
    "total_players_df = pd.DataFrame(total_players_dict)\n",
    "total_players_df"
   ]
  },
  {
   "cell_type": "code",
   "execution_count": 189,
   "metadata": {},
   "outputs": [],
   "source": [
    "#PURCHASING ANALYSIS (TOTAL):\n",
    "#Unique Items\n",
    "unique_df = heroes_df['Item ID'].unique()\n",
    "\n",
    "unique_count = 0\n",
    "for value in unique_df:\n",
    "    unique_count = unique_count + 1 \n",
    "    \n"
   ]
  },
  {
   "cell_type": "code",
   "execution_count": 190,
   "metadata": {},
   "outputs": [],
   "source": [
    "#Average Price\n",
    "average_price = heroes_df[\"Price\"].mean()"
   ]
  },
  {
   "cell_type": "code",
   "execution_count": 191,
   "metadata": {},
   "outputs": [],
   "source": [
    "#Number of Purchases\n",
    "purchases = heroes_df['Purchase ID'].count()"
   ]
  },
  {
   "cell_type": "code",
   "execution_count": 192,
   "metadata": {},
   "outputs": [],
   "source": [
    "#Total Revenue\n",
    "total_revenue = heroes_df['Price'].sum()"
   ]
  },
  {
   "cell_type": "code",
   "execution_count": 193,
   "metadata": {},
   "outputs": [
    {
     "data": {
      "text/html": [
       "<style  type=\"text/css\" >\n",
       "</style><table id=\"T_9fe2671e_c5f2_11ea_9d3e_a08869e2b796\" ><thead>    <tr>        <th class=\"blank level0\" ></th>        <th class=\"col_heading level0 col0\" >Number of Unique Items</th>        <th class=\"col_heading level0 col1\" >Average Price</th>        <th class=\"col_heading level0 col2\" >Number of Purchases</th>        <th class=\"col_heading level0 col3\" >Total Revenue</th>    </tr></thead><tbody>\n",
       "                <tr>\n",
       "                        <th id=\"T_9fe2671e_c5f2_11ea_9d3e_a08869e2b796level0_row0\" class=\"row_heading level0 row0\" >0</th>\n",
       "                        <td id=\"T_9fe2671e_c5f2_11ea_9d3e_a08869e2b796row0_col0\" class=\"data row0 col0\" >179</td>\n",
       "                        <td id=\"T_9fe2671e_c5f2_11ea_9d3e_a08869e2b796row0_col1\" class=\"data row0 col1\" >$3.05</td>\n",
       "                        <td id=\"T_9fe2671e_c5f2_11ea_9d3e_a08869e2b796row0_col2\" class=\"data row0 col2\" >780</td>\n",
       "                        <td id=\"T_9fe2671e_c5f2_11ea_9d3e_a08869e2b796row0_col3\" class=\"data row0 col3\" >$2,379.77</td>\n",
       "            </tr>\n",
       "    </tbody></table>"
      ],
      "text/plain": [
       "<pandas.io.formats.style.Styler at 0x1ba349a5470>"
      ]
     },
     "execution_count": 193,
     "metadata": {},
     "output_type": "execute_result"
    }
   ],
   "source": [
    "#Purchasing Analysis DataFrame\n",
    "purchasings_analysis_df = pd.DataFrame([[unique_count, average_price, purchases, total_revenue]], columns=['Number of Unique Items','Average Price','Number of Purchases','Total Revenue'])\n",
    "purchasings_analysis_df \n",
    "\n",
    "purchasings_analysis_df.style.format({\"Average Price\":\"${:,.2f}\",\"Total Revenue\":\"${:,.2f}\"})"
   ]
  },
  {
   "cell_type": "code",
   "execution_count": 194,
   "metadata": {},
   "outputs": [
    {
     "data": {
      "text/html": [
       "<div>\n",
       "<style scoped>\n",
       "    .dataframe tbody tr th:only-of-type {\n",
       "        vertical-align: middle;\n",
       "    }\n",
       "\n",
       "    .dataframe tbody tr th {\n",
       "        vertical-align: top;\n",
       "    }\n",
       "\n",
       "    .dataframe thead th {\n",
       "        text-align: right;\n",
       "    }\n",
       "</style>\n",
       "<table border=\"1\" class=\"dataframe\">\n",
       "  <thead>\n",
       "    <tr style=\"text-align: right;\">\n",
       "      <th></th>\n",
       "      <th>Total Count</th>\n",
       "      <th>Percentage</th>\n",
       "    </tr>\n",
       "  </thead>\n",
       "  <tbody>\n",
       "    <tr>\n",
       "      <th>Male</th>\n",
       "      <td>652</td>\n",
       "      <td>83.589744</td>\n",
       "    </tr>\n",
       "    <tr>\n",
       "      <th>Female</th>\n",
       "      <td>113</td>\n",
       "      <td>14.487179</td>\n",
       "    </tr>\n",
       "    <tr>\n",
       "      <th>Other / Non-Disclosed</th>\n",
       "      <td>15</td>\n",
       "      <td>1.923077</td>\n",
       "    </tr>\n",
       "  </tbody>\n",
       "</table>\n",
       "</div>"
      ],
      "text/plain": [
       "                       Total Count  Percentage\n",
       "Male                           652   83.589744\n",
       "Female                         113   14.487179\n",
       "Other / Non-Disclosed           15    1.923077"
      ]
     },
     "execution_count": 194,
     "metadata": {},
     "output_type": "execute_result"
    }
   ],
   "source": [
    "#GENDER DEMOGRAPHICS\n",
    "#Count and Percentage of Female/Male Players\n",
    "\n",
    "count_gender_df = heroes_df[\"Gender\"].value_counts()\n",
    "percent_gender_df = (heroes_df['Gender'].value_counts()/heroes_df['Gender'].count())*100\n",
    "\n",
    "gender_analysis_df = pd.DataFrame()\n",
    "gender_analysis_df['Total Count'],gender_analysis_df['Percentage'] = [count_gender_df,percent_gender_df]\n",
    "\n",
    "\n",
    "gender_analysis_df\n",
    "#gender_analysis_df.style.format({\"Percentage\":\"%\"})\n",
    "\n"
   ]
  },
  {
   "cell_type": "code",
   "execution_count": 195,
   "metadata": {},
   "outputs": [],
   "source": [
    "#Purchasing Analysis by Gender\n",
    "male_purchase_df = pd.DataFrame\n",
    "male_purchase_df = heroes_df.loc[heroes_df['Gender'] == \"Male\"]\n",
    "male_purchase_count = male_purchase_df['Purchase ID'].count()\n",
    "male_purchase_avg = male_purchase_df['Price'].mean()"
   ]
  },
  {
   "cell_type": "code",
   "execution_count": 196,
   "metadata": {},
   "outputs": [],
   "source": [
    "female_purchase_df = pd.DataFrame\n",
    "female_purchase_df = heroes_df.loc[heroes_df['Gender'] == \"Female\"]\n",
    "female_purchase_count = female_purchase_df['Purchase ID'].count()\n",
    "female_purchase_avg = female_purchase_df['Price'].mean()"
   ]
  },
  {
   "cell_type": "code",
   "execution_count": 197,
   "metadata": {},
   "outputs": [],
   "source": [
    "other_purchase_df = pd.DataFrame\n",
    "other_purchase_df = heroes_df.loc[heroes_df['Gender'] == \"Other / Non-Disclosed\"]\n",
    "other_purchase_count = other_purchase_df['Purchase ID'].count()\n",
    "other_purchase_avg = other_purchase_df['Price'].mean()"
   ]
  },
  {
   "cell_type": "code",
   "execution_count": 198,
   "metadata": {},
   "outputs": [],
   "source": [
    "grouped_df = heroes_df.groupby([\"Gender\",\"SN\"], as_index=False)['Price'].sum()\n",
    "\n",
    "male_avgtotal_per_person = grouped_df[grouped_df['Gender']=='Male']['Price'].mean()\n",
    "female_avgtotal_per_person = grouped_df[grouped_df['Gender']=='Female']['Price'].mean()\n",
    "other_avgtotal_per_person = grouped_df[grouped_df['Gender']==\"Other / Non-Disclosed\"]['Price'].mean()"
   ]
  },
  {
   "cell_type": "code",
   "execution_count": 199,
   "metadata": {},
   "outputs": [],
   "source": [
    "male_total_value = grouped_df[grouped_df[\"Gender\"]==\"Male\"][\"Price\"].sum()\n",
    "female_total_value = grouped_df[grouped_df[\"Gender\"]==\"Female\"][\"Price\"].sum()\n",
    "other_total_value = grouped_df[grouped_df[\"Gender\"]==\"Other / Non-Disclosed\"][\"Price\"].sum()"
   ]
  },
  {
   "cell_type": "code",
   "execution_count": 200,
   "metadata": {},
   "outputs": [
    {
     "data": {
      "text/html": [
       "<style  type=\"text/css\" >\n",
       "</style><table id=\"T_a3de9e58_c5f2_11ea_b916_a08869e2b796\" ><thead>    <tr>        <th class=\"blank level0\" ></th>        <th class=\"col_heading level0 col0\" >Gender</th>        <th class=\"col_heading level0 col1\" >Purchase Count</th>        <th class=\"col_heading level0 col2\" >Average Purchase Price</th>        <th class=\"col_heading level0 col3\" >Total Purchase Value</th>        <th class=\"col_heading level0 col4\" >Avg Total Purchase per Person</th>    </tr></thead><tbody>\n",
       "                <tr>\n",
       "                        <th id=\"T_a3de9e58_c5f2_11ea_b916_a08869e2b796level0_row0\" class=\"row_heading level0 row0\" >0</th>\n",
       "                        <td id=\"T_a3de9e58_c5f2_11ea_b916_a08869e2b796row0_col0\" class=\"data row0 col0\" >Male</td>\n",
       "                        <td id=\"T_a3de9e58_c5f2_11ea_b916_a08869e2b796row0_col1\" class=\"data row0 col1\" >652</td>\n",
       "                        <td id=\"T_a3de9e58_c5f2_11ea_b916_a08869e2b796row0_col2\" class=\"data row0 col2\" >$3.02</td>\n",
       "                        <td id=\"T_a3de9e58_c5f2_11ea_b916_a08869e2b796row0_col3\" class=\"data row0 col3\" >$1,967.64</td>\n",
       "                        <td id=\"T_a3de9e58_c5f2_11ea_b916_a08869e2b796row0_col4\" class=\"data row0 col4\" >$4.07</td>\n",
       "            </tr>\n",
       "            <tr>\n",
       "                        <th id=\"T_a3de9e58_c5f2_11ea_b916_a08869e2b796level0_row1\" class=\"row_heading level0 row1\" >1</th>\n",
       "                        <td id=\"T_a3de9e58_c5f2_11ea_b916_a08869e2b796row1_col0\" class=\"data row1 col0\" >Female</td>\n",
       "                        <td id=\"T_a3de9e58_c5f2_11ea_b916_a08869e2b796row1_col1\" class=\"data row1 col1\" >113</td>\n",
       "                        <td id=\"T_a3de9e58_c5f2_11ea_b916_a08869e2b796row1_col2\" class=\"data row1 col2\" >$3.20</td>\n",
       "                        <td id=\"T_a3de9e58_c5f2_11ea_b916_a08869e2b796row1_col3\" class=\"data row1 col3\" >$361.94</td>\n",
       "                        <td id=\"T_a3de9e58_c5f2_11ea_b916_a08869e2b796row1_col4\" class=\"data row1 col4\" >$4.47</td>\n",
       "            </tr>\n",
       "            <tr>\n",
       "                        <th id=\"T_a3de9e58_c5f2_11ea_b916_a08869e2b796level0_row2\" class=\"row_heading level0 row2\" >2</th>\n",
       "                        <td id=\"T_a3de9e58_c5f2_11ea_b916_a08869e2b796row2_col0\" class=\"data row2 col0\" >Other / Non-Disclosed</td>\n",
       "                        <td id=\"T_a3de9e58_c5f2_11ea_b916_a08869e2b796row2_col1\" class=\"data row2 col1\" >15</td>\n",
       "                        <td id=\"T_a3de9e58_c5f2_11ea_b916_a08869e2b796row2_col2\" class=\"data row2 col2\" >$3.35</td>\n",
       "                        <td id=\"T_a3de9e58_c5f2_11ea_b916_a08869e2b796row2_col3\" class=\"data row2 col3\" >$50.19</td>\n",
       "                        <td id=\"T_a3de9e58_c5f2_11ea_b916_a08869e2b796row2_col4\" class=\"data row2 col4\" >$4.56</td>\n",
       "            </tr>\n",
       "    </tbody></table>"
      ],
      "text/plain": [
       "<pandas.io.formats.style.Styler at 0x1ba349b0240>"
      ]
     },
     "execution_count": 200,
     "metadata": {},
     "output_type": "execute_result"
    }
   ],
   "source": [
    "#Purchasing Analysis by Gender DataFrame\n",
    "purchase_analysis_gender = pd.DataFrame({\"Gender\":[\"Male\",\"Female\",\"Other / Non-Disclosed\"],\n",
    "                   \"Purchase Count\":[male_purchase_count,female_purchase_count,other_purchase_count],\n",
    "                   \"Average Purchase Price\":[male_purchase_avg,female_purchase_avg,other_purchase_avg],\n",
    "                   \"Total Purchase Value\":[male_total_value,female_total_value,other_total_value],\n",
    "                   \"Avg Total Purchase per Person\":[male_avgtotal_per_person,female_avgtotal_per_person,other_avgtotal_per_person]})\n",
    "\n",
    "purchase_analysis_gender.set_index('Gender')\n",
    "\n",
    "purchase_analysis_gender.style.format({\"Average Purchase Price\":\"${:,.2f}\",\"Total Purchase Value\":\"${:,.2f}\",\"Avg Total Purchase per Person\":\"${:,.2f}\"})\n"
   ]
  },
  {
   "cell_type": "code",
   "execution_count": 201,
   "metadata": {},
   "outputs": [],
   "source": [
    "#Age Demographics\n",
    "#Create bins\n",
    "age_bins = [0, 9.90, 14.90, 19.90, 24.90, 29.90, 34.90, 39.90, 99999]\n",
    "labels = [\"<10\", \"10-14\", \"15-19\", \"20-24\", \"25-29\", \"30-34\", \"35-39\", \"40+\"]\n",
    "\n",
    "#Add bins to dataframe\n",
    "heroes_df[\"Age Group\"] = pd.cut(heroes_df[\"Age\"], age_bins, labels=labels, include_lowest=True)"
   ]
  },
  {
   "cell_type": "code",
   "execution_count": 202,
   "metadata": {},
   "outputs": [],
   "source": [
    "#group dataframe by ages into a series\n",
    "grouped_age = heroes_df.groupby(\"Age Group\")"
   ]
  },
  {
   "cell_type": "code",
   "execution_count": 203,
   "metadata": {},
   "outputs": [],
   "source": [
    "#Find Total Count of Purchases for each age group\n",
    "purchases_by_age = grouped_age[\"SN\"].nunique()"
   ]
  },
  {
   "cell_type": "code",
   "execution_count": 204,
   "metadata": {},
   "outputs": [],
   "source": [
    "#Find Percentage of purchases by age group\n",
    "percentage_purchases_by_age = (purchases_by_age/total_players)*100"
   ]
  },
  {
   "cell_type": "code",
   "execution_count": 205,
   "metadata": {},
   "outputs": [
    {
     "data": {
      "text/html": [
       "<div>\n",
       "<style scoped>\n",
       "    .dataframe tbody tr th:only-of-type {\n",
       "        vertical-align: middle;\n",
       "    }\n",
       "\n",
       "    .dataframe tbody tr th {\n",
       "        vertical-align: top;\n",
       "    }\n",
       "\n",
       "    .dataframe thead th {\n",
       "        text-align: right;\n",
       "    }\n",
       "</style>\n",
       "<table border=\"1\" class=\"dataframe\">\n",
       "  <thead>\n",
       "    <tr style=\"text-align: right;\">\n",
       "      <th></th>\n",
       "      <th>Total Count</th>\n",
       "      <th>Percentages</th>\n",
       "    </tr>\n",
       "    <tr>\n",
       "      <th>Age Group</th>\n",
       "      <th></th>\n",
       "      <th></th>\n",
       "    </tr>\n",
       "  </thead>\n",
       "  <tbody>\n",
       "    <tr>\n",
       "      <th>&lt;10</th>\n",
       "      <td>17</td>\n",
       "      <td>2.951389</td>\n",
       "    </tr>\n",
       "    <tr>\n",
       "      <th>10-14</th>\n",
       "      <td>22</td>\n",
       "      <td>3.819444</td>\n",
       "    </tr>\n",
       "    <tr>\n",
       "      <th>15-19</th>\n",
       "      <td>107</td>\n",
       "      <td>18.576389</td>\n",
       "    </tr>\n",
       "    <tr>\n",
       "      <th>20-24</th>\n",
       "      <td>258</td>\n",
       "      <td>44.791667</td>\n",
       "    </tr>\n",
       "    <tr>\n",
       "      <th>25-29</th>\n",
       "      <td>77</td>\n",
       "      <td>13.368056</td>\n",
       "    </tr>\n",
       "    <tr>\n",
       "      <th>30-34</th>\n",
       "      <td>52</td>\n",
       "      <td>9.027778</td>\n",
       "    </tr>\n",
       "    <tr>\n",
       "      <th>35-39</th>\n",
       "      <td>31</td>\n",
       "      <td>5.381944</td>\n",
       "    </tr>\n",
       "    <tr>\n",
       "      <th>40+</th>\n",
       "      <td>12</td>\n",
       "      <td>2.083333</td>\n",
       "    </tr>\n",
       "  </tbody>\n",
       "</table>\n",
       "</div>"
      ],
      "text/plain": [
       "           Total Count  Percentages\n",
       "Age Group                          \n",
       "<10                 17     2.951389\n",
       "10-14               22     3.819444\n",
       "15-19              107    18.576389\n",
       "20-24              258    44.791667\n",
       "25-29               77    13.368056\n",
       "30-34               52     9.027778\n",
       "35-39               31     5.381944\n",
       "40+                 12     2.083333"
      ]
     },
     "execution_count": 205,
     "metadata": {},
     "output_type": "execute_result"
    }
   ],
   "source": [
    "#Dataframe of Age Information\n",
    "age_demographics_df = pd.DataFrame({\"Total Count\":purchases_by_age, \"Percentages\": percentage_purchases_by_age})\n",
    "age_demographics_df"
   ]
  },
  {
   "cell_type": "code",
   "execution_count": 206,
   "metadata": {},
   "outputs": [],
   "source": [
    "#Purchase Count by age\n",
    "age_purchase_count = grouped_age[\"SN\"].count()"
   ]
  },
  {
   "cell_type": "code",
   "execution_count": 207,
   "metadata": {},
   "outputs": [],
   "source": [
    "#Average Purchase Price by age\n",
    "avg_age_purchase = grouped_age[\"Price\"].mean()"
   ]
  },
  {
   "cell_type": "code",
   "execution_count": 208,
   "metadata": {},
   "outputs": [],
   "source": [
    "#Total Purchase Value by age\n",
    "total_age_purchase = grouped_age[\"Price\"].sum()"
   ]
  },
  {
   "cell_type": "code",
   "execution_count": 209,
   "metadata": {},
   "outputs": [],
   "source": [
    "#Average Total Purchase per Person by age\n",
    "avg_total_per_person_age = total_age_purchase/purchases_by_age"
   ]
  },
  {
   "cell_type": "code",
   "execution_count": 210,
   "metadata": {},
   "outputs": [
    {
     "data": {
      "text/html": [
       "<style  type=\"text/css\" >\n",
       "</style><table id=\"T_b0163c76_c5f2_11ea_948d_a08869e2b796\" ><thead>    <tr>        <th class=\"blank level0\" ></th>        <th class=\"col_heading level0 col0\" >Purchase Count</th>        <th class=\"col_heading level0 col1\" >Avg. Purchase Price</th>        <th class=\"col_heading level0 col2\" >Total Purchase Value</th>        <th class=\"col_heading level0 col3\" >Avg. per Person</th>    </tr>    <tr>        <th class=\"index_name level0\" >Age Group</th>        <th class=\"blank\" ></th>        <th class=\"blank\" ></th>        <th class=\"blank\" ></th>        <th class=\"blank\" ></th>    </tr></thead><tbody>\n",
       "                <tr>\n",
       "                        <th id=\"T_b0163c76_c5f2_11ea_948d_a08869e2b796level0_row0\" class=\"row_heading level0 row0\" ><10</th>\n",
       "                        <td id=\"T_b0163c76_c5f2_11ea_948d_a08869e2b796row0_col0\" class=\"data row0 col0\" >23</td>\n",
       "                        <td id=\"T_b0163c76_c5f2_11ea_948d_a08869e2b796row0_col1\" class=\"data row0 col1\" >$3.35</td>\n",
       "                        <td id=\"T_b0163c76_c5f2_11ea_948d_a08869e2b796row0_col2\" class=\"data row0 col2\" >$77.13</td>\n",
       "                        <td id=\"T_b0163c76_c5f2_11ea_948d_a08869e2b796row0_col3\" class=\"data row0 col3\" >$4.54</td>\n",
       "            </tr>\n",
       "            <tr>\n",
       "                        <th id=\"T_b0163c76_c5f2_11ea_948d_a08869e2b796level0_row1\" class=\"row_heading level0 row1\" >10-14</th>\n",
       "                        <td id=\"T_b0163c76_c5f2_11ea_948d_a08869e2b796row1_col0\" class=\"data row1 col0\" >28</td>\n",
       "                        <td id=\"T_b0163c76_c5f2_11ea_948d_a08869e2b796row1_col1\" class=\"data row1 col1\" >$2.96</td>\n",
       "                        <td id=\"T_b0163c76_c5f2_11ea_948d_a08869e2b796row1_col2\" class=\"data row1 col2\" >$82.78</td>\n",
       "                        <td id=\"T_b0163c76_c5f2_11ea_948d_a08869e2b796row1_col3\" class=\"data row1 col3\" >$3.76</td>\n",
       "            </tr>\n",
       "            <tr>\n",
       "                        <th id=\"T_b0163c76_c5f2_11ea_948d_a08869e2b796level0_row2\" class=\"row_heading level0 row2\" >15-19</th>\n",
       "                        <td id=\"T_b0163c76_c5f2_11ea_948d_a08869e2b796row2_col0\" class=\"data row2 col0\" >136</td>\n",
       "                        <td id=\"T_b0163c76_c5f2_11ea_948d_a08869e2b796row2_col1\" class=\"data row2 col1\" >$3.04</td>\n",
       "                        <td id=\"T_b0163c76_c5f2_11ea_948d_a08869e2b796row2_col2\" class=\"data row2 col2\" >$412.89</td>\n",
       "                        <td id=\"T_b0163c76_c5f2_11ea_948d_a08869e2b796row2_col3\" class=\"data row2 col3\" >$3.86</td>\n",
       "            </tr>\n",
       "            <tr>\n",
       "                        <th id=\"T_b0163c76_c5f2_11ea_948d_a08869e2b796level0_row3\" class=\"row_heading level0 row3\" >20-24</th>\n",
       "                        <td id=\"T_b0163c76_c5f2_11ea_948d_a08869e2b796row3_col0\" class=\"data row3 col0\" >365</td>\n",
       "                        <td id=\"T_b0163c76_c5f2_11ea_948d_a08869e2b796row3_col1\" class=\"data row3 col1\" >$3.05</td>\n",
       "                        <td id=\"T_b0163c76_c5f2_11ea_948d_a08869e2b796row3_col2\" class=\"data row3 col2\" >$1,114.06</td>\n",
       "                        <td id=\"T_b0163c76_c5f2_11ea_948d_a08869e2b796row3_col3\" class=\"data row3 col3\" >$4.32</td>\n",
       "            </tr>\n",
       "            <tr>\n",
       "                        <th id=\"T_b0163c76_c5f2_11ea_948d_a08869e2b796level0_row4\" class=\"row_heading level0 row4\" >25-29</th>\n",
       "                        <td id=\"T_b0163c76_c5f2_11ea_948d_a08869e2b796row4_col0\" class=\"data row4 col0\" >101</td>\n",
       "                        <td id=\"T_b0163c76_c5f2_11ea_948d_a08869e2b796row4_col1\" class=\"data row4 col1\" >$2.90</td>\n",
       "                        <td id=\"T_b0163c76_c5f2_11ea_948d_a08869e2b796row4_col2\" class=\"data row4 col2\" >$293.00</td>\n",
       "                        <td id=\"T_b0163c76_c5f2_11ea_948d_a08869e2b796row4_col3\" class=\"data row4 col3\" >$3.81</td>\n",
       "            </tr>\n",
       "            <tr>\n",
       "                        <th id=\"T_b0163c76_c5f2_11ea_948d_a08869e2b796level0_row5\" class=\"row_heading level0 row5\" >30-34</th>\n",
       "                        <td id=\"T_b0163c76_c5f2_11ea_948d_a08869e2b796row5_col0\" class=\"data row5 col0\" >73</td>\n",
       "                        <td id=\"T_b0163c76_c5f2_11ea_948d_a08869e2b796row5_col1\" class=\"data row5 col1\" >$2.93</td>\n",
       "                        <td id=\"T_b0163c76_c5f2_11ea_948d_a08869e2b796row5_col2\" class=\"data row5 col2\" >$214.00</td>\n",
       "                        <td id=\"T_b0163c76_c5f2_11ea_948d_a08869e2b796row5_col3\" class=\"data row5 col3\" >$4.12</td>\n",
       "            </tr>\n",
       "            <tr>\n",
       "                        <th id=\"T_b0163c76_c5f2_11ea_948d_a08869e2b796level0_row6\" class=\"row_heading level0 row6\" >35-39</th>\n",
       "                        <td id=\"T_b0163c76_c5f2_11ea_948d_a08869e2b796row6_col0\" class=\"data row6 col0\" >41</td>\n",
       "                        <td id=\"T_b0163c76_c5f2_11ea_948d_a08869e2b796row6_col1\" class=\"data row6 col1\" >$3.60</td>\n",
       "                        <td id=\"T_b0163c76_c5f2_11ea_948d_a08869e2b796row6_col2\" class=\"data row6 col2\" >$147.67</td>\n",
       "                        <td id=\"T_b0163c76_c5f2_11ea_948d_a08869e2b796row6_col3\" class=\"data row6 col3\" >$4.76</td>\n",
       "            </tr>\n",
       "            <tr>\n",
       "                        <th id=\"T_b0163c76_c5f2_11ea_948d_a08869e2b796level0_row7\" class=\"row_heading level0 row7\" >40+</th>\n",
       "                        <td id=\"T_b0163c76_c5f2_11ea_948d_a08869e2b796row7_col0\" class=\"data row7 col0\" >13</td>\n",
       "                        <td id=\"T_b0163c76_c5f2_11ea_948d_a08869e2b796row7_col1\" class=\"data row7 col1\" >$2.94</td>\n",
       "                        <td id=\"T_b0163c76_c5f2_11ea_948d_a08869e2b796row7_col2\" class=\"data row7 col2\" >$38.24</td>\n",
       "                        <td id=\"T_b0163c76_c5f2_11ea_948d_a08869e2b796row7_col3\" class=\"data row7 col3\" >$3.19</td>\n",
       "            </tr>\n",
       "    </tbody></table>"
      ],
      "text/plain": [
       "<pandas.io.formats.style.Styler at 0x1ba339cff28>"
      ]
     },
     "execution_count": 210,
     "metadata": {},
     "output_type": "execute_result"
    }
   ],
   "source": [
    "age_info = pd.DataFrame({\"Purchase Count\":age_purchase_count, \"Avg. Purchase Price\": avg_age_purchase,\n",
    "                                     \"Total Purchase Value\":total_age_purchase, \"Avg. per Person\": avg_total_per_person_age})\n",
    "\n",
    "#Format DataFrame\n",
    "age_info.style.format({\"Avg. Purchase Price\":\"${:,.2f}\",\"Total Purchase Value\":\"${:,.2f}\", \"Avg. per Person\":\"${:,.2f}\"})"
   ]
  },
  {
   "cell_type": "code",
   "execution_count": 211,
   "metadata": {},
   "outputs": [
    {
     "data": {
      "text/html": [
       "<style  type=\"text/css\" >\n",
       "</style><table id=\"T_b12fc540_c5f2_11ea_b58e_a08869e2b796\" ><thead>    <tr>        <th class=\"blank level0\" ></th>        <th class=\"col_heading level0 col0\" >Purchase Count</th>        <th class=\"col_heading level0 col1\" >Avg. Purchase Price</th>        <th class=\"col_heading level0 col2\" >Total Purchase Value</th>    </tr>    <tr>        <th class=\"index_name level0\" >SN</th>        <th class=\"blank\" ></th>        <th class=\"blank\" ></th>        <th class=\"blank\" ></th>    </tr></thead><tbody>\n",
       "                <tr>\n",
       "                        <th id=\"T_b12fc540_c5f2_11ea_b58e_a08869e2b796level0_row0\" class=\"row_heading level0 row0\" >Lisosia93</th>\n",
       "                        <td id=\"T_b12fc540_c5f2_11ea_b58e_a08869e2b796row0_col0\" class=\"data row0 col0\" >5</td>\n",
       "                        <td id=\"T_b12fc540_c5f2_11ea_b58e_a08869e2b796row0_col1\" class=\"data row0 col1\" >$3.79</td>\n",
       "                        <td id=\"T_b12fc540_c5f2_11ea_b58e_a08869e2b796row0_col2\" class=\"data row0 col2\" >$18.96</td>\n",
       "            </tr>\n",
       "            <tr>\n",
       "                        <th id=\"T_b12fc540_c5f2_11ea_b58e_a08869e2b796level0_row1\" class=\"row_heading level0 row1\" >Idastidru52</th>\n",
       "                        <td id=\"T_b12fc540_c5f2_11ea_b58e_a08869e2b796row1_col0\" class=\"data row1 col0\" >4</td>\n",
       "                        <td id=\"T_b12fc540_c5f2_11ea_b58e_a08869e2b796row1_col1\" class=\"data row1 col1\" >$3.86</td>\n",
       "                        <td id=\"T_b12fc540_c5f2_11ea_b58e_a08869e2b796row1_col2\" class=\"data row1 col2\" >$15.45</td>\n",
       "            </tr>\n",
       "            <tr>\n",
       "                        <th id=\"T_b12fc540_c5f2_11ea_b58e_a08869e2b796level0_row2\" class=\"row_heading level0 row2\" >Chamjask73</th>\n",
       "                        <td id=\"T_b12fc540_c5f2_11ea_b58e_a08869e2b796row2_col0\" class=\"data row2 col0\" >3</td>\n",
       "                        <td id=\"T_b12fc540_c5f2_11ea_b58e_a08869e2b796row2_col1\" class=\"data row2 col1\" >$4.61</td>\n",
       "                        <td id=\"T_b12fc540_c5f2_11ea_b58e_a08869e2b796row2_col2\" class=\"data row2 col2\" >$13.83</td>\n",
       "            </tr>\n",
       "            <tr>\n",
       "                        <th id=\"T_b12fc540_c5f2_11ea_b58e_a08869e2b796level0_row3\" class=\"row_heading level0 row3\" >Iral74</th>\n",
       "                        <td id=\"T_b12fc540_c5f2_11ea_b58e_a08869e2b796row3_col0\" class=\"data row3 col0\" >4</td>\n",
       "                        <td id=\"T_b12fc540_c5f2_11ea_b58e_a08869e2b796row3_col1\" class=\"data row3 col1\" >$3.40</td>\n",
       "                        <td id=\"T_b12fc540_c5f2_11ea_b58e_a08869e2b796row3_col2\" class=\"data row3 col2\" >$13.62</td>\n",
       "            </tr>\n",
       "            <tr>\n",
       "                        <th id=\"T_b12fc540_c5f2_11ea_b58e_a08869e2b796level0_row4\" class=\"row_heading level0 row4\" >Iskadarya95</th>\n",
       "                        <td id=\"T_b12fc540_c5f2_11ea_b58e_a08869e2b796row4_col0\" class=\"data row4 col0\" >3</td>\n",
       "                        <td id=\"T_b12fc540_c5f2_11ea_b58e_a08869e2b796row4_col1\" class=\"data row4 col1\" >$4.37</td>\n",
       "                        <td id=\"T_b12fc540_c5f2_11ea_b58e_a08869e2b796row4_col2\" class=\"data row4 col2\" >$13.10</td>\n",
       "            </tr>\n",
       "    </tbody></table>"
      ],
      "text/plain": [
       "<pandas.io.formats.style.Styler at 0x1ba338eacc0>"
      ]
     },
     "execution_count": 211,
     "metadata": {},
     "output_type": "execute_result"
    }
   ],
   "source": [
    "#Group data by SN\n",
    "spenders = heroes_df.groupby(\"SN\")\n",
    "\n",
    "#Find the total purchase of each user by screen name\n",
    "purchase_count_by_sn = spenders[\"Purchase ID\"].count()\n",
    "\n",
    "#Average Purchase Price for each user (unique SN)\n",
    "avg_purchase_price_sn = spenders[\"Price\"].mean()\n",
    "\n",
    "#Total Purchase Price for each user (unique SN)\n",
    "total_purchase_price_sn = spenders[\"Price\"].sum()\n",
    "\n",
    "#Top Spenders Dataframe\n",
    "top_spenders = pd.DataFrame({\"Purchase Count\":purchase_count_by_sn, \"Avg. Purchase Price\": avg_purchase_price_sn,\n",
    "                                     \"Total Purchase Value\":total_purchase_price_sn})\n",
    "\n",
    "#Sort Dataframe to show TOP 5 spenders\n",
    "top_5 = top_spenders.sort_values([\"Total Purchase Value\"], ascending = False).head()\n",
    "\n",
    "#Format Data Frame\n",
    "top_5.style.format({\"Avg. Purchase Price\":\"${:,.2f}\", \"Total Purchase Value\":\"${:,.2f}\"})"
   ]
  },
  {
   "cell_type": "code",
   "execution_count": 212,
   "metadata": {},
   "outputs": [],
   "source": [
    "#Item Analysis\n",
    "items_df = pd.DataFrame()\n",
    "items_df = heroes_df[[\"Item ID\", \"Item Name\", \"Price\", \"Purchase ID\"]]"
   ]
  },
  {
   "cell_type": "code",
   "execution_count": 213,
   "metadata": {},
   "outputs": [],
   "source": [
    "#Group by Item Name and Item ID\n",
    "item_info = items_df.groupby([\"Item Name\", \"Item ID\"])"
   ]
  },
  {
   "cell_type": "code",
   "execution_count": 214,
   "metadata": {},
   "outputs": [],
   "source": [
    "#Purchase Count for each item\n",
    "purchase_count_by_item = item_info[\"Purchase ID\"].count()"
   ]
  },
  {
   "cell_type": "code",
   "execution_count": 215,
   "metadata": {},
   "outputs": [],
   "source": [
    "#Total Purchase Value for each Item\n",
    "item_total_purchase_value = item_info[\"Price\"].sum()"
   ]
  },
  {
   "cell_type": "code",
   "execution_count": 216,
   "metadata": {},
   "outputs": [],
   "source": [
    "#Item price for each individual item\n",
    "indv_item_price = item_total_purchase_value/purchase_count_by_item "
   ]
  },
  {
   "cell_type": "code",
   "execution_count": 217,
   "metadata": {},
   "outputs": [
    {
     "data": {
      "text/html": [
       "<style  type=\"text/css\" >\n",
       "</style><table id=\"T_b983acc2_c5f2_11ea_a34b_a08869e2b796\" ><thead>    <tr>        <th class=\"blank\" ></th>        <th class=\"blank level0\" ></th>        <th class=\"col_heading level0 col0\" >Purchase Count</th>        <th class=\"col_heading level0 col1\" >Item Price</th>        <th class=\"col_heading level0 col2\" >Total Purchase Value</th>    </tr>    <tr>        <th class=\"index_name level0\" >Item Name</th>        <th class=\"index_name level1\" >Item ID</th>        <th class=\"blank\" ></th>        <th class=\"blank\" ></th>        <th class=\"blank\" ></th>    </tr></thead><tbody>\n",
       "                <tr>\n",
       "                        <th id=\"T_b983acc2_c5f2_11ea_a34b_a08869e2b796level0_row0\" class=\"row_heading level0 row0\" >Final Critic</th>\n",
       "                        <th id=\"T_b983acc2_c5f2_11ea_a34b_a08869e2b796level1_row0\" class=\"row_heading level1 row0\" >92</th>\n",
       "                        <td id=\"T_b983acc2_c5f2_11ea_a34b_a08869e2b796row0_col0\" class=\"data row0 col0\" >13</td>\n",
       "                        <td id=\"T_b983acc2_c5f2_11ea_a34b_a08869e2b796row0_col1\" class=\"data row0 col1\" >$4.61</td>\n",
       "                        <td id=\"T_b983acc2_c5f2_11ea_a34b_a08869e2b796row0_col2\" class=\"data row0 col2\" >$59.99</td>\n",
       "            </tr>\n",
       "            <tr>\n",
       "                        <th id=\"T_b983acc2_c5f2_11ea_a34b_a08869e2b796level0_row1\" class=\"row_heading level0 row1\" >Oathbreaker, Last Hope of the Breaking Storm</th>\n",
       "                        <th id=\"T_b983acc2_c5f2_11ea_a34b_a08869e2b796level1_row1\" class=\"row_heading level1 row1\" >178</th>\n",
       "                        <td id=\"T_b983acc2_c5f2_11ea_a34b_a08869e2b796row1_col0\" class=\"data row1 col0\" >12</td>\n",
       "                        <td id=\"T_b983acc2_c5f2_11ea_a34b_a08869e2b796row1_col1\" class=\"data row1 col1\" >$4.23</td>\n",
       "                        <td id=\"T_b983acc2_c5f2_11ea_a34b_a08869e2b796row1_col2\" class=\"data row1 col2\" >$50.76</td>\n",
       "            </tr>\n",
       "            <tr>\n",
       "                        <th id=\"T_b983acc2_c5f2_11ea_a34b_a08869e2b796level0_row2\" class=\"row_heading level0 row2\" >Persuasion</th>\n",
       "                        <th id=\"T_b983acc2_c5f2_11ea_a34b_a08869e2b796level1_row2\" class=\"row_heading level1 row2\" >132</th>\n",
       "                        <td id=\"T_b983acc2_c5f2_11ea_a34b_a08869e2b796row2_col0\" class=\"data row2 col0\" >9</td>\n",
       "                        <td id=\"T_b983acc2_c5f2_11ea_a34b_a08869e2b796row2_col1\" class=\"data row2 col1\" >$3.22</td>\n",
       "                        <td id=\"T_b983acc2_c5f2_11ea_a34b_a08869e2b796row2_col2\" class=\"data row2 col2\" >$28.99</td>\n",
       "            </tr>\n",
       "            <tr>\n",
       "                        <th id=\"T_b983acc2_c5f2_11ea_a34b_a08869e2b796level0_row3\" class=\"row_heading level0 row3\" >Nirvana</th>\n",
       "                        <th id=\"T_b983acc2_c5f2_11ea_a34b_a08869e2b796level1_row3\" class=\"row_heading level1 row3\" >82</th>\n",
       "                        <td id=\"T_b983acc2_c5f2_11ea_a34b_a08869e2b796row3_col0\" class=\"data row3 col0\" >9</td>\n",
       "                        <td id=\"T_b983acc2_c5f2_11ea_a34b_a08869e2b796row3_col1\" class=\"data row3 col1\" >$4.90</td>\n",
       "                        <td id=\"T_b983acc2_c5f2_11ea_a34b_a08869e2b796row3_col2\" class=\"data row3 col2\" >$44.10</td>\n",
       "            </tr>\n",
       "            <tr>\n",
       "                        <th id=\"T_b983acc2_c5f2_11ea_a34b_a08869e2b796level0_row4\" class=\"row_heading level0 row4\" >Extraction, Quickblade Of Trembling Hands</th>\n",
       "                        <th id=\"T_b983acc2_c5f2_11ea_a34b_a08869e2b796level1_row4\" class=\"row_heading level1 row4\" >108</th>\n",
       "                        <td id=\"T_b983acc2_c5f2_11ea_a34b_a08869e2b796row4_col0\" class=\"data row4 col0\" >9</td>\n",
       "                        <td id=\"T_b983acc2_c5f2_11ea_a34b_a08869e2b796row4_col1\" class=\"data row4 col1\" >$3.53</td>\n",
       "                        <td id=\"T_b983acc2_c5f2_11ea_a34b_a08869e2b796row4_col2\" class=\"data row4 col2\" >$31.77</td>\n",
       "            </tr>\n",
       "    </tbody></table>"
      ],
      "text/plain": [
       "<pandas.io.formats.style.Styler at 0x1ba3396e6d8>"
      ]
     },
     "execution_count": 217,
     "metadata": {},
     "output_type": "execute_result"
    }
   ],
   "source": [
    "#Create Dataframe for popular items\n",
    "popular_items = pd.DataFrame({\"Purchase Count\": purchase_count_by_item,\"Item Price\": indv_item_price,\"Total Purchase Value\":item_total_purchase_value})\n",
    "\n",
    "#Sort DataFrame to show Top 5 \n",
    "popular_items_top5 = popular_items.sort_values([\"Purchase Count\"], ascending=False).head()\n",
    "\n",
    "#Format Dataframe\n",
    "popular_items_top5.style.format({\"Item Price\":\"${:,.2f}\",\"Total Purchase Value\":\"${:,.2f}\"})\n"
   ]
  },
  {
   "cell_type": "code",
   "execution_count": 218,
   "metadata": {},
   "outputs": [
    {
     "data": {
      "text/html": [
       "<style  type=\"text/css\" >\n",
       "</style><table id=\"T_ba0cc90c_c5f2_11ea_8a99_a08869e2b796\" ><thead>    <tr>        <th class=\"blank\" ></th>        <th class=\"blank level0\" ></th>        <th class=\"col_heading level0 col0\" >Purchase Count</th>        <th class=\"col_heading level0 col1\" >Item Price</th>        <th class=\"col_heading level0 col2\" >Total Purchase Value</th>    </tr>    <tr>        <th class=\"index_name level0\" >Item Name</th>        <th class=\"index_name level1\" >Item ID</th>        <th class=\"blank\" ></th>        <th class=\"blank\" ></th>        <th class=\"blank\" ></th>    </tr></thead><tbody>\n",
       "                <tr>\n",
       "                        <th id=\"T_ba0cc90c_c5f2_11ea_8a99_a08869e2b796level0_row0\" class=\"row_heading level0 row0\" >Final Critic</th>\n",
       "                        <th id=\"T_ba0cc90c_c5f2_11ea_8a99_a08869e2b796level1_row0\" class=\"row_heading level1 row0\" >92</th>\n",
       "                        <td id=\"T_ba0cc90c_c5f2_11ea_8a99_a08869e2b796row0_col0\" class=\"data row0 col0\" >13</td>\n",
       "                        <td id=\"T_ba0cc90c_c5f2_11ea_8a99_a08869e2b796row0_col1\" class=\"data row0 col1\" >$4.61</td>\n",
       "                        <td id=\"T_ba0cc90c_c5f2_11ea_8a99_a08869e2b796row0_col2\" class=\"data row0 col2\" >$59.99</td>\n",
       "            </tr>\n",
       "            <tr>\n",
       "                        <th id=\"T_ba0cc90c_c5f2_11ea_8a99_a08869e2b796level0_row1\" class=\"row_heading level0 row1\" >Oathbreaker, Last Hope of the Breaking Storm</th>\n",
       "                        <th id=\"T_ba0cc90c_c5f2_11ea_8a99_a08869e2b796level1_row1\" class=\"row_heading level1 row1\" >178</th>\n",
       "                        <td id=\"T_ba0cc90c_c5f2_11ea_8a99_a08869e2b796row1_col0\" class=\"data row1 col0\" >12</td>\n",
       "                        <td id=\"T_ba0cc90c_c5f2_11ea_8a99_a08869e2b796row1_col1\" class=\"data row1 col1\" >$4.23</td>\n",
       "                        <td id=\"T_ba0cc90c_c5f2_11ea_8a99_a08869e2b796row1_col2\" class=\"data row1 col2\" >$50.76</td>\n",
       "            </tr>\n",
       "            <tr>\n",
       "                        <th id=\"T_ba0cc90c_c5f2_11ea_8a99_a08869e2b796level0_row2\" class=\"row_heading level0 row2\" >Persuasion</th>\n",
       "                        <th id=\"T_ba0cc90c_c5f2_11ea_8a99_a08869e2b796level1_row2\" class=\"row_heading level1 row2\" >132</th>\n",
       "                        <td id=\"T_ba0cc90c_c5f2_11ea_8a99_a08869e2b796row2_col0\" class=\"data row2 col0\" >9</td>\n",
       "                        <td id=\"T_ba0cc90c_c5f2_11ea_8a99_a08869e2b796row2_col1\" class=\"data row2 col1\" >$3.22</td>\n",
       "                        <td id=\"T_ba0cc90c_c5f2_11ea_8a99_a08869e2b796row2_col2\" class=\"data row2 col2\" >$28.99</td>\n",
       "            </tr>\n",
       "            <tr>\n",
       "                        <th id=\"T_ba0cc90c_c5f2_11ea_8a99_a08869e2b796level0_row3\" class=\"row_heading level0 row3\" >Nirvana</th>\n",
       "                        <th id=\"T_ba0cc90c_c5f2_11ea_8a99_a08869e2b796level1_row3\" class=\"row_heading level1 row3\" >82</th>\n",
       "                        <td id=\"T_ba0cc90c_c5f2_11ea_8a99_a08869e2b796row3_col0\" class=\"data row3 col0\" >9</td>\n",
       "                        <td id=\"T_ba0cc90c_c5f2_11ea_8a99_a08869e2b796row3_col1\" class=\"data row3 col1\" >$4.90</td>\n",
       "                        <td id=\"T_ba0cc90c_c5f2_11ea_8a99_a08869e2b796row3_col2\" class=\"data row3 col2\" >$44.10</td>\n",
       "            </tr>\n",
       "            <tr>\n",
       "                        <th id=\"T_ba0cc90c_c5f2_11ea_8a99_a08869e2b796level0_row4\" class=\"row_heading level0 row4\" >Extraction, Quickblade Of Trembling Hands</th>\n",
       "                        <th id=\"T_ba0cc90c_c5f2_11ea_8a99_a08869e2b796level1_row4\" class=\"row_heading level1 row4\" >108</th>\n",
       "                        <td id=\"T_ba0cc90c_c5f2_11ea_8a99_a08869e2b796row4_col0\" class=\"data row4 col0\" >9</td>\n",
       "                        <td id=\"T_ba0cc90c_c5f2_11ea_8a99_a08869e2b796row4_col1\" class=\"data row4 col1\" >$3.53</td>\n",
       "                        <td id=\"T_ba0cc90c_c5f2_11ea_8a99_a08869e2b796row4_col2\" class=\"data row4 col2\" >$31.77</td>\n",
       "            </tr>\n",
       "    </tbody></table>"
      ],
      "text/plain": [
       "<pandas.io.formats.style.Styler at 0x1ba349b0dd8>"
      ]
     },
     "execution_count": 218,
     "metadata": {},
     "output_type": "execute_result"
    }
   ],
   "source": [
    "#Most Profitable Items\n",
    "popular_items_top5.sort_values([\"Total Purchase Value\"],ascending=False).head()\n",
    "\n",
    "popular_items_top5.style.format({\"Item Price\":\"${:,.2f}\",\"Total Purchase Value\":\"${:,.2f}\"})"
   ]
  },
  {
   "cell_type": "code",
   "execution_count": null,
   "metadata": {},
   "outputs": [],
   "source": []
  },
  {
   "cell_type": "code",
   "execution_count": null,
   "metadata": {},
   "outputs": [],
   "source": []
  }
 ],
 "metadata": {
  "kernelspec": {
   "display_name": "Python [conda env:PythonData] *",
   "language": "python",
   "name": "conda-env-PythonData-py"
  },
  "language_info": {
   "codemirror_mode": {
    "name": "ipython",
    "version": 3
   },
   "file_extension": ".py",
   "mimetype": "text/x-python",
   "name": "python",
   "nbconvert_exporter": "python",
   "pygments_lexer": "ipython3",
   "version": "3.6.10"
  }
 },
 "nbformat": 4,
 "nbformat_minor": 4
}
