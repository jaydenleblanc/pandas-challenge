{
 "cells": [
  {
   "cell_type": "code",
   "execution_count": null,
   "metadata": {},
   "outputs": [],
   "source": [
    "%config IPCompleter.greedy=True"
   ]
  },
  {
   "cell_type": "code",
   "execution_count": null,
   "metadata": {},
   "outputs": [],
   "source": [
    "#Dependencies and Setup\n",
    "import pandas as pd\n",
    "import numpy as np"
   ]
  },
  {
   "cell_type": "code",
   "execution_count": null,
   "metadata": {},
   "outputs": [],
   "source": [
    "#File to Load\n",
    "csv_file = 'Resources/HeroesOfPymoli.csv'\n",
    "\n",
    "#Use Pandas to read in csv file \n",
    "heroes_df = pd.read_csv(csv_file, encoding=\"UTF-8\")"
   ]
  },
  {
   "cell_type": "code",
   "execution_count": null,
   "metadata": {},
   "outputs": [],
   "source": [
    "total_players = len(heroes_df[\"SN\"].value_counts())"
   ]
  },
  {
   "cell_type": "code",
   "execution_count": null,
   "metadata": {},
   "outputs": [],
   "source": [
    "#PLAYER COUNT: Total # of Players:\n",
    "# Find Number of Total Players and display as a DataFrame\n",
    "\n",
    "total_players_dict = [{\"Total Players\": total_players}]\n",
    "\n",
    "#Create DataFrame from Dictionary\n",
    "total_players_df = pd.DataFrame(total_players_dict)\n",
    "total_players_df"
   ]
  },
  {
   "cell_type": "code",
   "execution_count": null,
   "metadata": {},
   "outputs": [],
   "source": [
    "#PURCHASING ANALYSIS (TOTAL):\n",
    "#Unique Items\n",
    "unique_df = heroes_df['Item ID'].unique()\n",
    "\n",
    "unique_count = 0\n",
    "for value in unique_df:\n",
    "    unique_count = unique_count + 1 \n",
    "    \n"
   ]
  },
  {
   "cell_type": "code",
   "execution_count": null,
   "metadata": {},
   "outputs": [],
   "source": [
    "#Average Price\n",
    "average_price = heroes_df[\"Price\"].mean()"
   ]
  },
  {
   "cell_type": "code",
   "execution_count": null,
   "metadata": {},
   "outputs": [],
   "source": [
    "#Number of Purchases\n",
    "purchases = heroes_df['Purchase ID'].count()"
   ]
  },
  {
   "cell_type": "code",
   "execution_count": null,
   "metadata": {},
   "outputs": [],
   "source": [
    "#Total Revenue\n",
    "total_revenue = heroes_df['Price'].sum()"
   ]
  },
  {
   "cell_type": "code",
   "execution_count": null,
   "metadata": {},
   "outputs": [],
   "source": [
    "#Purchasing Analysis DataFrame\n",
    "purchasings_analysis_df = pd.DataFrame([[unique_count, average_price, purchases, total_revenue]], columns=['Number of Unique Items','Average Price','Number of Purchases','Total Revenue'])\n",
    "purchasings_analysis_df \n",
    "\n",
    "purchasings_analysis_df.style.format({\"Average Price\":\"${:,.2f}\",\"Total Revenue\":\"${:,.2f}\"})"
   ]
  },
  {
   "cell_type": "code",
   "execution_count": null,
   "metadata": {},
   "outputs": [],
   "source": [
    "#GENDER DEMOGRAPHICS\n",
    "#Count and Percentage of Female/Male Players\n",
    "\n",
    "count_gender_df = heroes_df[\"Gender\"].value_counts()\n",
    "percent_gender_df = (heroes_df['Gender'].value_counts()/heroes_df['Gender'].count())*100\n",
    "\n",
    "gender_analysis_df = pd.DataFrame()\n",
    "gender_analysis_df['Total Count'],gender_analysis_df['Percentage'] = [count_gender_df,percent_gender_df]\n",
    "\n",
    "\n",
    "gender_analysis_df\n",
    "#gender_analysis_df.style.format({\"Percentage\":\"%\"})\n",
    "\n"
   ]
  },
  {
   "cell_type": "code",
   "execution_count": null,
   "metadata": {},
   "outputs": [],
   "source": [
    "#Purchasing Analysis by Gender\n",
    "male_purchase_df = pd.DataFrame\n",
    "male_purchase_df = heroes_df.loc[heroes_df['Gender'] == \"Male\"]\n",
    "male_purchase_count = male_purchase_df['Purchase ID'].count()\n",
    "male_purchase_avg = male_purchase_df['Price'].mean()"
   ]
  },
  {
   "cell_type": "code",
   "execution_count": null,
   "metadata": {},
   "outputs": [],
   "source": [
    "female_purchase_df = pd.DataFrame\n",
    "female_purchase_df = heroes_df.loc[heroes_df['Gender'] == \"Female\"]\n",
    "female_purchase_count = female_purchase_df['Purchase ID'].count()\n",
    "female_purchase_avg = female_purchase_df['Price'].mean()"
   ]
  },
  {
   "cell_type": "code",
   "execution_count": null,
   "metadata": {},
   "outputs": [],
   "source": [
    "other_purchase_df = pd.DataFrame\n",
    "other_purchase_df = heroes_df.loc[heroes_df['Gender'] == \"Other / Non-Disclosed\"]\n",
    "other_purchase_count = other_purchase_df['Purchase ID'].count()\n",
    "other_purchase_avg = other_purchase_df['Price'].mean()"
   ]
  },
  {
   "cell_type": "code",
   "execution_count": null,
   "metadata": {},
   "outputs": [],
   "source": [
    "grouped_df = heroes_df.groupby([\"Gender\",\"SN\"], as_index=False)['Price'].sum()\n",
    "\n",
    "male_avgtotal_per_person = grouped_df[grouped_df['Gender']=='Male']['Price'].mean()\n",
    "female_avgtotal_per_person = grouped_df[grouped_df['Gender']=='Female']['Price'].mean()\n",
    "other_avgtotal_per_person = grouped_df[grouped_df['Gender']==\"Other / Non-Disclosed\"]['Price'].mean()"
   ]
  },
  {
   "cell_type": "code",
   "execution_count": null,
   "metadata": {},
   "outputs": [],
   "source": [
    "male_total_value = grouped_df[grouped_df[\"Gender\"]==\"Male\"][\"Price\"].sum()\n",
    "female_total_value = grouped_df[grouped_df[\"Gender\"]==\"Female\"][\"Price\"].sum()\n",
    "other_total_value = grouped_df[grouped_df[\"Gender\"]==\"Other / Non-Disclosed\"][\"Price\"].sum()"
   ]
  },
  {
   "cell_type": "code",
   "execution_count": null,
   "metadata": {},
   "outputs": [],
   "source": [
    "#Purchasing Analysis by Gender DataFrame\n",
    "purchase_analysis_gender = pd.DataFrame({\"Gender\":[\"Male\",\"Female\",\"Other / Non-Disclosed\"],\n",
    "                   \"Purchase Count\":[male_purchase_count,female_purchase_count,other_purchase_count],\n",
    "                   \"Average Purchase Price\":[male_purchase_avg,female_purchase_avg,other_purchase_avg],\n",
    "                   \"Total Purchase Value\":[male_total_value,female_total_value,other_total_value],\n",
    "                   \"Avg Total Purchase per Person\":[male_avgtotal_per_person,female_avgtotal_per_person,other_avgtotal_per_person]})\n",
    "\n",
    "purchase_analysis_gender.set_index('Gender')\n",
    "\n",
    "purchase_analysis_gender.style.format({\"Average Purchase Price\":\"${:,.2f}\",\"Total Purchase Value\":\"${:,.2f}\",\"Avg Total Purchase per Person\":\"${:,.2f}\"})\n"
   ]
  },
  {
   "cell_type": "code",
   "execution_count": null,
   "metadata": {},
   "outputs": [],
   "source": [
    "#Age Demographics\n",
    "#Create bins\n",
    "age_bins = [0, 9.90, 14.90, 19.90, 24.90, 29.90, 34.90, 39.90, 99999]\n",
    "labels = [\"<10\", \"10-14\", \"15-19\", \"20-24\", \"25-29\", \"30-34\", \"35-39\", \"40+\"]\n",
    "\n",
    "#Add bins to dataframe\n",
    "heroes_df[\"Age Group\"] = pd.cut(heroes_df[\"Age\"], age_bins, labels=labels, include_lowest=True)"
   ]
  },
  {
   "cell_type": "code",
   "execution_count": null,
   "metadata": {},
   "outputs": [],
   "source": [
    "#group dataframe by ages into a series\n",
    "grouped_age = heroes_df.groupby(\"Age Group\")"
   ]
  },
  {
   "cell_type": "code",
   "execution_count": null,
   "metadata": {},
   "outputs": [],
   "source": [
    "#Find Total Count of Purchases for each age group\n",
    "purchases_by_age = grouped_age[\"SN\"].nunique()"
   ]
  },
  {
   "cell_type": "code",
   "execution_count": null,
   "metadata": {},
   "outputs": [],
   "source": [
    "#Find Percentage of purchases by age group\n",
    "percentage_purchases_by_age = (purchases_by_age/total_players)*100"
   ]
  },
  {
   "cell_type": "code",
   "execution_count": null,
   "metadata": {},
   "outputs": [],
   "source": [
    "#Dataframe of Age Information\n",
    "age_demographics_df = pd.DataFrame({\"Total Count\":purchases_by_age, \"Percentages\": percentage_purchases_by_age})\n",
    "age_demographics_df"
   ]
  },
  {
   "cell_type": "code",
   "execution_count": null,
   "metadata": {},
   "outputs": [],
   "source": [
    "#Purchase Count by age\n",
    "age_purchase_count = grouped_age[\"SN\"].count()"
   ]
  },
  {
   "cell_type": "code",
   "execution_count": null,
   "metadata": {},
   "outputs": [],
   "source": [
    "#Average Purchase Price by age\n",
    "avg_age_purchase = grouped_age[\"Price\"].mean()"
   ]
  },
  {
   "cell_type": "code",
   "execution_count": null,
   "metadata": {},
   "outputs": [],
   "source": [
    "#Total Purchase Value by age\n",
    "total_age_purchase = grouped_age[\"Price\"].sum()"
   ]
  },
  {
   "cell_type": "code",
   "execution_count": null,
   "metadata": {},
   "outputs": [],
   "source": [
    "#Average Total Purchase per Person by age\n",
    "avg_total_per_person_age = total_age_purchase/purchases_by_age"
   ]
  },
  {
   "cell_type": "code",
   "execution_count": null,
   "metadata": {},
   "outputs": [],
   "source": [
    "age_info = pd.DataFrame({\"Purchase Count\":age_purchase_count, \"Avg. Purchase Price\": avg_age_purchase,\n",
    "                                     \"Total Purchase Value\":total_age_purchase, \"Avg. per Person\": avg_total_per_person_age})\n",
    "\n",
    "#Format DataFrame\n",
    "age_info.style.format({\"Avg. Purchase Price\":\"${:,.2f}\",\"Total Purchase Value\":\"${:,.2f}\", \"Avg. per Person\":\"${:,.2f}\"})"
   ]
  },
  {
   "cell_type": "code",
   "execution_count": null,
   "metadata": {},
   "outputs": [],
   "source": [
    "#Group data by SN\n",
    "spenders = heroes_df.groupby(\"SN\")\n",
    "\n",
    "#Find the total purchase of each user by screen name\n",
    "purchase_count_by_sn = spenders[\"Purchase ID\"].count()\n",
    "\n",
    "#Average Purchase Price for each user (unique SN)\n",
    "avg_purchase_price_sn = spenders[\"Price\"].mean()\n",
    "\n",
    "#Total Purchase Price for each user (unique SN)\n",
    "total_purchase_price_sn = spenders[\"Price\"].sum()\n",
    "\n",
    "#Top Spenders Dataframe\n",
    "top_spenders = pd.DataFrame({\"Purchase Count\":purchase_count_by_sn, \"Avg. Purchase Price\": avg_purchase_price_sn,\n",
    "                                     \"Total Purchase Value\":total_purchase_price_sn})\n",
    "\n",
    "#Sort Dataframe to show TOP 5 spenders\n",
    "top_5 = top_spenders.sort_values([\"Total Purchase Value\"], ascending = False).head()\n",
    "\n",
    "#Format Data Frame\n",
    "top_5.style.format({\"Avg. Purchase Price\":\"${:,.2f}\", \"Total Purchase Value\":\"${:,.2f}\"})"
   ]
  },
  {
   "cell_type": "code",
   "execution_count": null,
   "metadata": {},
   "outputs": [],
   "source": [
    "#Item Analysis\n",
    "items_df = pd.DataFrame()\n",
    "items_df = heroes_df[[\"Item ID\", \"Item Name\", \"Price\", \"Purchase ID\"]]"
   ]
  },
  {
   "cell_type": "code",
   "execution_count": null,
   "metadata": {},
   "outputs": [],
   "source": [
    "#Group by Item Name and Item ID\n",
    "item_info = items_df.groupby([\"Item Name\", \"Item ID\"])"
   ]
  },
  {
   "cell_type": "code",
   "execution_count": null,
   "metadata": {},
   "outputs": [],
   "source": [
    "#Purchase Count for each item\n",
    "purchase_count_by_item = item_info[\"Purchase ID\"].count()"
   ]
  },
  {
   "cell_type": "code",
   "execution_count": null,
   "metadata": {},
   "outputs": [],
   "source": [
    "#Total Purchase Value for each Item\n",
    "item_total_purchase_value = item_info[\"Price\"].sum()"
   ]
  },
  {
   "cell_type": "code",
   "execution_count": null,
   "metadata": {},
   "outputs": [],
   "source": [
    "#Item price for each individual item\n",
    "indv_item_price = item_total_purchase_value/purchase_count_by_item "
   ]
  },
  {
   "cell_type": "code",
   "execution_count": null,
   "metadata": {},
   "outputs": [],
   "source": [
    "#Create Dataframe for popular items\n",
    "popular_items = pd.DataFrame({\"Purchase Count\": purchase_count_by_item,\"Item Price\": indv_item_price,\"Total Purchase Value\":item_total_purchase_value})\n",
    "\n",
    "#Sort DataFrame to show Top 5 \n",
    "popular_items_top5 = popular_items.sort_values([\"Purchase Count\"], ascending=False).head()\n",
    "\n",
    "#Format Dataframe\n",
    "popular_items_top5.style.format({\"Item Price\":\"${:,.2f}\",\"Total Purchase Value\":\"${:,.2f}\"})\n"
   ]
  },
  {
   "cell_type": "code",
   "execution_count": null,
   "metadata": {},
   "outputs": [],
   "source": [
    "#Most Profitable Items\n",
    "popular_items_top5.sort_values([\"Total Purchase Value\"],ascending=False).head()\n",
    "\n",
    "popular_items_top5.style.format({\"Item Price\":\"${:,.2f}\",\"Total Purchase Value\":\"${:,.2f}\"})"
   ]
  },
  {
   "cell_type": "code",
   "execution_count": null,
   "metadata": {},
   "outputs": [],
   "source": []
  },
  {
   "cell_type": "code",
   "execution_count": null,
   "metadata": {},
   "outputs": [],
   "source": []
  }
 ],
 "metadata": {
  "kernelspec": {
   "display_name": "Python [conda env:PythonData] *",
   "language": "python",
   "name": "conda-env-PythonData-py"
  },
  "language_info": {
   "codemirror_mode": {
    "name": "ipython",
    "version": 3
   },
   "file_extension": ".py",
   "mimetype": "text/x-python",
   "name": "python",
   "nbconvert_exporter": "python",
   "pygments_lexer": "ipython3",
   "version": "3.6.10"
  }
 },
 "nbformat": 4,
 "nbformat_minor": 4
}
